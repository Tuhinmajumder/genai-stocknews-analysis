{
 "cells": [
  {
   "cell_type": "code",
   "execution_count": 6,
   "id": "0e7b1dbe",
   "metadata": {},
   "outputs": [],
   "source": [
    "from openai import AzureOpenAI\n",
    "import httpx, requests\n",
    "import json\n",
    "from azure.identity import DefaultAzureCredential\n",
    "from azure.keyvault.secrets import SecretClient"
   ]
  },
  {
   "cell_type": "code",
   "execution_count": 7,
   "id": "47962f44",
   "metadata": {},
   "outputs": [],
   "source": [
    "\n",
    "key_vault_url = \"https://user25-tuhin-kv.vault.azure.net/\"\n",
    "credential = DefaultAzureCredential()\n",
    "\n",
    "client = SecretClient(vault_url=key_vault_url, credential=credential)\n",
    "\n",
    "secret_name_news_api = \"news-api-key\"\n",
    "news_api_key = client.get_secret(secret_name_news_api)\n",
    "\n",
    "secret_name_alphavantage_api = \"alphavantage-api-key\"\n",
    "alphavantage_api_key = client.get_secret(secret_name_alphavantage_api)"
   ]
  },
  {
   "cell_type": "code",
   "execution_count": null,
   "id": "c6583ec8",
   "metadata": {},
   "outputs": [],
   "source": [
    "import requests\n",
    "import json\n",
    "\n",
    "# Get API keys from key vault\n",
    "ALPHAVANTAGE_API_KEY = alphavantage_api_key.value\n",
    "NEWSAPI_API_KEY = news_api_key.value\n",
    "\n",
    "def get_stock_ticker(company_name, api_key=ALPHAVANTAGE_API_KEY):\n",
    "    \"\"\"\n",
    "    Fetches potential stock tickers for a given company name using the Alpha Vantage API.\n",
    "\n",
    "    Args:\n",
    "        company_name (str): The name of the company to search for.\n",
    "        api_key (str, optional): Your Alpha Vantage API key. Defaults to ALPHAVANTAGE_API_KEY.\n",
    "\n",
    "    Returns:\n",
    "        list: A list of dictionaries, where each dictionary contains information\n",
    "              about a matching ticker (e.g., 'symbol', 'name', 'region', 'currency').\n",
    "              Returns None if there's an error or no results.\n",
    "    \"\"\"\n",
    "    base_url = \"https://www.alphavantage.co/query\"\n",
    "    params = {\n",
    "        \"function\": \"SYMBOL_SEARCH\",\n",
    "        \"keywords\": company_name,\n",
    "        \"apikey\": api_key\n",
    "    }\n",
    "\n",
    "    try:\n",
    "        response = requests.get(base_url, params=params)\n",
    "        response.raise_for_status()  # Raise an exception for bad status codes (4xx or 5xx)\n",
    "        data = response.json()\n",
    "        if \"bestMatches\" in data:\n",
    "            return data[\"bestMatches\"]\n",
    "        else:\n",
    "            print(f\"No matching tickers found for '{company_name}' or an error occurred: {data.get('Note', 'No detailed error message')}\")\n",
    "            return None\n",
    "    except requests.exceptions.RequestException as e:\n",
    "        print(f\"Error fetching ticker: {e}\")\n",
    "        return None\n",
    "\n",
    "def get_stock_news(ticker, api_key=NEWSAPI_API_KEY):\n",
    "    \"\"\"\n",
    "    Fetches recent news articles for a given stock ticker using the NewsAPI.\n",
    "\n",
    "    Args:\n",
    "        ticker (str): The stock ticker symbol (e.g., AAPL).\n",
    "        api_key (str, optional): Your NewsAPI API key. Defaults to NEWSAPI_API_KEY.\n",
    "\n",
    "    Returns:\n",
    "        list: A list of news article dictionaries (e.g., 'title', 'description', 'url', 'publishedAt', 'source').\n",
    "              Returns None if there's an error or no results.\n",
    "    \"\"\"\n",
    "    base_url = \"https://newsapi.org/v2/everything\"\n",
    "    params = {\n",
    "        \"q\": ticker,\n",
    "        \"apiKey\": api_key,\n",
    "        \"sortBy\": \"publishedAt\",\n",
    "        \"language\": \"en\" # You can adjust the language if needed\n",
    "    }\n",
    "\n",
    "    try:\n",
    "        response = requests.get(base_url, params=params)\n",
    "        response.raise_for_status()\n",
    "        data = response.json()\n",
    "        if data[\"status\"] == \"ok\" and data[\"totalResults\"] > 0:\n",
    "            return data[\"articles\"]\n",
    "        else:\n",
    "            print(f\"No news found for ticker '{ticker}' or an error occurred: {data.get('message', 'No detailed error message')}\")\n",
    "            return None\n",
    "    except requests.exceptions.RequestException as e:\n",
    "        print(f\"Error fetching news: {e}\")\n",
    "        return None"
   ]
  },
  {
   "cell_type": "code",
   "execution_count": 25,
   "id": "bc97a028",
   "metadata": {},
   "outputs": [],
   "source": [
    "\n",
    "def get_ticker_from_companyname(company_to_search):\n",
    "\n",
    "    tickers = get_stock_ticker(company_to_search.strip())\n",
    "    if tickers:\n",
    "        try:\n",
    "            selected_ticker = tickers[0]['1. symbol']\n",
    "            return selected_ticker,tickers\n",
    "        except Exception as e:\n",
    "            print(f\"The error in fetching the ticker :{e}\")\n",
    "            return None\n",
    "    else:\n",
    "        print(f\"The stock code of the {company_to_search} is not found!\")\n",
    "        return None\n",
    "\n",
    "\n"
   ]
  },
  {
   "cell_type": "code",
   "execution_count": 30,
   "id": "c4dcfeee",
   "metadata": {},
   "outputs": [],
   "source": [
    "user_provided_company = \"Amazon \"\n",
    "selected_ticker = get_ticker_from_companyname(user_provided_company)"
   ]
  },
  {
   "cell_type": "code",
   "execution_count": 31,
   "id": "47766c0c",
   "metadata": {},
   "outputs": [],
   "source": [
    "# news_articles = get_stock_news('MSFT')\n",
    "# ls = []\n",
    "# for _,v in enumerate(news_articles):\n",
    "#     ls.append(v['description'])\n",
    "# appended_desc = \". \".join([k for k in ls if k is not None])"
   ]
  },
  {
   "cell_type": "code",
   "execution_count": 32,
   "id": "8c31fd0c",
   "metadata": {},
   "outputs": [],
   "source": [
    "def stock_news_extraction(ticker: str):\n",
    "\n",
    "    try:\n",
    "\n",
    "        news_articles = get_stock_news(ticker)\n",
    "        ls = []\n",
    "        for _,v in enumerate(news_articles):\n",
    "            ls.append(v['description'])\n",
    "        appended_desc = \". \".join([k for k in ls if k is not None])\n",
    "        return appended_desc\n",
    "    except Exception as e:\n",
    "        print(f\"The error is: {e} in extracting news atricle extraction\")\n",
    "        return None\n",
    "\n",
    "  "
   ]
  },
  {
   "cell_type": "code",
   "execution_count": 33,
   "id": "f99e1fb7",
   "metadata": {},
   "outputs": [],
   "source": [
    "latest_news = stock_news_extraction(selected_ticker)"
   ]
  },
  {
   "cell_type": "code",
   "execution_count": 34,
   "id": "850a5ed5",
   "metadata": {},
   "outputs": [],
   "source": [
    "from langchain_openai import AzureChatOpenAI\n",
    "\n",
    "model = AzureChatOpenAI(api_version=\"2024-12-01-preview\",model='gpt-4o-mini')"
   ]
  },
  {
   "cell_type": "code",
   "execution_count": 59,
   "id": "efbfff60",
   "metadata": {},
   "outputs": [],
   "source": [
    "from langfuse.openai import AzureOpenAI\n",
    "from langfuse import Langfuse\n",
    "import langfuse as lf\n",
    "import os, textwrap\n",
    "\n",
    "import os\n",
    "os.environ[\"LANGFUSE_PUBLIC_KEY\"] = \"pk-lf\"\n",
    "os.environ[\"LANGFUSE_SECRET_KEY\"] = \"sk-lf-9fd0\"\n",
    "os.environ[\"LANGFUSE_HOST\"] = \"https://cloud.langfuse.com\" #\"http://localhost:3000\"\n",
    "os.environ['AZURE_OPENAI_ENDPOINT'] = \"\"\n",
    "os.environ['AZURE_OPENAI_API_KEY'] = \"\"\n",
    "\n",
    "lf = Langfuse(public_key=os.getenv(\"LANGFUSE_PUBLIC_KEY\"),\n",
    "              secret_key=os.getenv(\"LANGFUSE_SECRET_KEY\"),\n",
    "              host=os.getenv(\"LANGFUSE_HOST\", \"http://localhost:3000\"))"
   ]
  },
  {
   "cell_type": "code",
   "execution_count": 60,
   "id": "1a69c882",
   "metadata": {},
   "outputs": [],
   "source": [
    "def log_prompt_langfuse(prompt):\n",
    "\n",
    "    prompt_text = textwrap.dedent(prompt)\n",
    "\n",
    "    prompt_v1 = lf.create_prompt(\n",
    "        name=\"latest-news-extractor\",\n",
    "        prompt=prompt_text,\n",
    "        config={\"model\":\"gpt-4o-mini\",\"temperature\":0.2},\n",
    "        labels=[\"production\"],\n",
    "\n",
    "    )\n",
    "    return prompt_v1\n"
   ]
  },
  {
   "cell_type": "code",
   "execution_count": 49,
   "id": "93a68d8f",
   "metadata": {},
   "outputs": [],
   "source": [
    "# format = {\"companyname\":\"\", \"stock_code\":\"\", \"newsdesc\":\"\", \"sentiment\":\"\",\n",
    "#           \"people_names\":[], \"places_names\":[], \"other_companies_referred\":[],\n",
    "#           \"related_industries\":[], \"market_implications\":[], \"confidence_score\":0.0}"
   ]
  },
  {
   "cell_type": "code",
   "execution_count": 39,
   "id": "245119e0",
   "metadata": {},
   "outputs": [],
   "source": [
    "from pydantic import BaseModel, Field\n",
    "from typing import List, Dict, Any\n",
    "from langchain.output_parsers import PydanticOutputParser\n",
    "from langchain.prompts import PromptTemplate"
   ]
  },
  {
   "cell_type": "code",
   "execution_count": 37,
   "id": "c93542f1",
   "metadata": {},
   "outputs": [],
   "source": [
    "class StockAnalysis(BaseModel):\n",
    "    \"\"\" Pydantic class to parse stock news description \"\"\"\n",
    "    companyname: str = Field(description=\"Name of the primary company discussed in the news\")\n",
    "    stock_code: str = Field(description=\"Stock ticker symbol of the primary company\")\n",
    "    newsdesc: str = Field(description=\"Brief description or summary of the news article\")\n",
    "    sentiment: str = Field(description=\"Overall sentiment expressed in the news (e.g., positive, negative, neutral)\")\n",
    "    people_names: List[str] = Field(default_factory=list, description=\"List of names of people mentioned in the news\")\n",
    "    places_names: List[str] = Field(default_factory=list, description=\"List of names of places mentioned in the news\")\n",
    "    other_companies_referred: List[str] = Field(default_factory=list, description=\"List of names of other companies referred to in the news\")\n",
    "    related_industries: List[str] = Field(default_factory=list, description=\"List of industries related to the news\")\n",
    "    market_implications: List[str] = Field(default_factory=list, description=\"Potential implications of the news on the market\")\n",
    "    confidence_score: float = Field(description=\"Confidence score (between 0.0 and 1.0) indicating the certainty of the extracted information\")\n",
    "\n"
   ]
  },
  {
   "cell_type": "code",
   "execution_count": 38,
   "id": "6f289f1d",
   "metadata": {},
   "outputs": [],
   "source": [
    "prompt_template = \"\"\"\n",
    "    Analyze the following news excerpt and extract the relevant information in the following format:\n",
    "    {format_instructions}\n",
    "\n",
    "    News Excerpt:\n",
    "    {news_excerpt}\n",
    "    \"\"\""
   ]
  },
  {
   "cell_type": "code",
   "execution_count": null,
   "id": "cd90b562",
   "metadata": {},
   "outputs": [],
   "source": [
    "def getFormattedResponse(news_desc: str):\n",
    "\n",
    "    stock_news_parser = PydanticOutputParser(pydantic_object=StockAnalysis)    \n",
    "\n",
    "    prompt = PromptTemplate(\n",
    "        template=prompt_template,\n",
    "        input_variables=[\"news_excerpt\"],\n",
    "        partial_variables={\"format_instructions\": stock_news_parser.get_format_instructions()}\n",
    "    )\n",
    "    \n",
    "    prompt_v1_logged = log_prompt_langfuse(prompt)\n",
    "    llm_input = prompt.format_prompt(news_excerpt=news_desc)\n",
    "    output = model(llm_input.to_messages())\n",
    "\n",
    "    try:\n",
    "        \n",
    "        output = model(llm_input.to_messages())\n",
    "        if hasattr(output, 'content'):\n",
    "            parsed_output = stock_news_parser.parse(output.content)            \n",
    "            return json.loads(parsed_output.model_dump_json())\n",
    "            \n",
    "        else:\n",
    "            print(f\"Error: Unexpected output format. No 'content' attribute found in the output: {output}\")\n",
    "            return None\n",
    "\n",
    "\n",
    "    except Exception as e:\n",
    "        print(f\"An error occurred: {e}\")\n",
    "        print(\"Please ensure your language model is generating output that conforms to the specified format.\")\n",
    "        print(f\"Format Instructions: {stock_news_parser.get_format_instructions()}\")\n",
    "        return None\n"
   ]
  },
  {
   "cell_type": "code",
   "execution_count": 42,
   "id": "c9868b97",
   "metadata": {},
   "outputs": [],
   "source": [
    "parsed_op = getFormattedResponse(latest_news)"
   ]
  },
  {
   "cell_type": "code",
   "execution_count": null,
   "id": "211f9b4f",
   "metadata": {},
   "outputs": [],
   "source": [
    "from langchain_core.runnables import RunnableLambda\n",
    "\n",
    "runnable_getnews = RunnableLambda(stock_news_extraction)\n",
    "runnable_parsedresponse = RunnableLambda(getFormattedResponse)\n",
    "\n",
    "chain = runnable_getnews | runnable_parsedresponse"
   ]
  },
  {
   "cell_type": "code",
   "execution_count": null,
   "id": "2c38323a",
   "metadata": {},
   "outputs": [
    {
     "name": "stdout",
     "output_type": "stream",
     "text": [
      "companyname='Amazon.com, Inc.' stock_code='AMZN' newsdesc='According to Bloomberg, Jeff Bezos, co-founder of Amazon, is a distant second at $227 billion. MGO One Seven LLC increased its holdings in shares of Amazon.com, Inc. by 12.7% during the fourth quarter, according to its most recent Form 13F filing with the SEC. Other institutional investors have also made significant adjustments to their holdings in the company, with notable increases and decreases reported.' sentiment='positive' people_names=['Elon Musk', 'Jeff Bezos', 'Thomas H. Kean Jr.'] places_names=['Bay Area', 'Wyoming'] other_companies_referred=['Meta', 'FedEx'] related_industries=['e-commerce', 'technology', 'entertainment'] market_implications=['Potential bullish sentiment for Amazon stock due to increased institutional investments and a recovery in personal fortunes of key figures in the industry.'] confidence_score=0.85\n"
     ]
    }
   ],
   "source": [
    "\n",
    "result = chain.invoke(selected_ticker)\n"
   ]
  },
  {
   "cell_type": "code",
   "execution_count": 56,
   "id": "45bcb387",
   "metadata": {},
   "outputs": [
    {
     "name": "stderr",
     "output_type": "stream",
     "text": [
      "/tmp/ipykernel_188952/286763424.py:1: PydanticDeprecatedSince20: The `json` method is deprecated; use `model_dump_json` instead. Deprecated in Pydantic V2.0 to be removed in V3.0. See Pydantic V2 Migration Guide at https://errors.pydantic.dev/2.11/migration/\n",
      "  final_result = json.loads(result.json())\n"
     ]
    }
   ],
   "source": [
    "final_result = json.loads(result.json())"
   ]
  },
  {
   "cell_type": "code",
   "execution_count": 57,
   "id": "e5016965",
   "metadata": {},
   "outputs": [
    {
     "data": {
      "text/plain": [
       "{'companyname': 'Amazon.com, Inc.',\n",
       " 'stock_code': 'AMZN',\n",
       " 'newsdesc': 'According to Bloomberg, Jeff Bezos, co-founder of Amazon, is a distant second at $227 billion. MGO One Seven LLC increased its holdings in shares of Amazon.com, Inc. by 12.7% during the fourth quarter, according to its most recent Form 13F filing with the SEC. Other institutional investors have also made significant adjustments to their holdings in the company, with notable increases and decreases reported.',\n",
       " 'sentiment': 'positive',\n",
       " 'people_names': ['Elon Musk', 'Jeff Bezos', 'Thomas H. Kean Jr.'],\n",
       " 'places_names': ['Bay Area', 'Wyoming'],\n",
       " 'other_companies_referred': ['Meta', 'FedEx'],\n",
       " 'related_industries': ['e-commerce', 'technology', 'entertainment'],\n",
       " 'market_implications': ['Potential bullish sentiment for Amazon stock due to increased institutional investments and a recovery in personal fortunes of key figures in the industry.'],\n",
       " 'confidence_score': 0.85}"
      ]
     },
     "execution_count": 57,
     "metadata": {},
     "output_type": "execute_result"
    }
   ],
   "source": [
    "final_result"
   ]
  },
  {
   "cell_type": "code",
   "execution_count": null,
   "id": "9452f0af",
   "metadata": {},
   "outputs": [],
   "source": []
  }
 ],
 "metadata": {
  "kernelspec": {
   "display_name": "gen-ai",
   "language": "python",
   "name": "python3"
  },
  "language_info": {
   "codemirror_mode": {
    "name": "ipython",
    "version": 3
   },
   "file_extension": ".py",
   "mimetype": "text/x-python",
   "name": "python",
   "nbconvert_exporter": "python",
   "pygments_lexer": "ipython3",
   "version": "3.12.3"
  }
 },
 "nbformat": 4,
 "nbformat_minor": 5
}
